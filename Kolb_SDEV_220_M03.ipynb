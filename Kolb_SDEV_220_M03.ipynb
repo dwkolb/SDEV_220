{
 "cells": [
  {
   "cell_type": "code",
   "execution_count": 1,
   "id": "2aa41ca2",
   "metadata": {},
   "outputs": [
    {
     "name": "stdout",
     "output_type": "stream",
     "text": [
      "['mozzarella', 'Cinderella', 'salmonella']\n"
     ]
    }
   ],
   "source": [
    "#M03 Things to Do \n",
    "#7.4\n",
    "\n",
    "things = ['mozzarella', 'cinderella', 'salmonella']\n",
    "\n",
    "#7.5\n",
    "things[1] = things[1].capitalize()\n",
    "print(things)"
   ]
  },
  {
   "cell_type": "code",
   "execution_count": 2,
   "id": "e94d7081",
   "metadata": {},
   "outputs": [],
   "source": [
    "#7.5 cont. Yes it changed the element in the list."
   ]
  },
  {
   "cell_type": "code",
   "execution_count": 3,
   "id": "d60dcfc1",
   "metadata": {},
   "outputs": [
    {
     "name": "stdout",
     "output_type": "stream",
     "text": [
      "['MOZZARELLA', 'Cinderella', 'salmonella']\n"
     ]
    }
   ],
   "source": [
    "#7.6\n",
    "things[0] = things[0].upper()\n",
    "print(things)"
   ]
  },
  {
   "cell_type": "code",
   "execution_count": 4,
   "id": "9641a187",
   "metadata": {},
   "outputs": [
    {
     "name": "stdout",
     "output_type": "stream",
     "text": [
      "['MOZZARELLA', 'Cinderella']\n"
     ]
    }
   ],
   "source": [
    "#7.7\n",
    "del things[2]\n",
    "print(things)"
   ]
  },
  {
   "cell_type": "code",
   "execution_count": 5,
   "id": "0704f08e",
   "metadata": {},
   "outputs": [
    {
     "name": "stdout",
     "output_type": "stream",
     "text": [
      "['Harry', 'Ron', 'Hermione']\n",
      "5\n"
     ]
    }
   ],
   "source": [
    "#9.1\n",
    "def good():\n",
    "    return ['Harry', 'Ron', 'Hermione']\n",
    "\n",
    "#9.2\n",
    "def get_odds():\n",
    "    for number in range(1, 10, 2):\n",
    "        yield number\n",
    "        \n",
    "#Test the functions\n",
    "result_good = good()\n",
    "print(result_good)\n",
    "\n",
    "#for loop to find and print the third value returned\n",
    "odds_generator = get_odds()\n",
    "for _ in range(3):\n",
    "    third_odd = next(odds_generator)\n",
    "\n",
    "print(third_odd)"
   ]
  },
  {
   "cell_type": "code",
   "execution_count": null,
   "id": "251446a0",
   "metadata": {},
   "outputs": [],
   "source": []
  }
 ],
 "metadata": {
  "kernelspec": {
   "display_name": "Python 3 (ipykernel)",
   "language": "python",
   "name": "python3"
  },
  "language_info": {
   "codemirror_mode": {
    "name": "ipython",
    "version": 3
   },
   "file_extension": ".py",
   "mimetype": "text/x-python",
   "name": "python",
   "nbconvert_exporter": "python",
   "pygments_lexer": "ipython3",
   "version": "3.11.5"
  }
 },
 "nbformat": 4,
 "nbformat_minor": 5
}
