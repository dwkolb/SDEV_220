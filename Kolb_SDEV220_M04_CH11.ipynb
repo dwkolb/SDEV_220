{
 "cells": [
  {
   "cell_type": "code",
   "execution_count": 1,
   "id": "62cf25f2",
   "metadata": {},
   "outputs": [],
   "source": [
    "# M04 Programmin Assignment: Things to do 11.1\n",
    "from zoo import hours"
   ]
  },
  {
   "cell_type": "code",
   "execution_count": 2,
   "id": "9babfba6",
   "metadata": {},
   "outputs": [
    {
     "name": "stdout",
     "output_type": "stream",
     "text": [
      "Open 9-5 daily\n"
     ]
    }
   ],
   "source": [
    "hours()"
   ]
  },
  {
   "cell_type": "code",
   "execution_count": 3,
   "id": "9fb33133",
   "metadata": {},
   "outputs": [],
   "source": [
    "#Things to do 11.2\n",
    "import zoo as menagerie"
   ]
  },
  {
   "cell_type": "code",
   "execution_count": 4,
   "id": "ba709e5d",
   "metadata": {},
   "outputs": [
    {
     "name": "stdout",
     "output_type": "stream",
     "text": [
      "Open 9-5 daily\n"
     ]
    }
   ],
   "source": [
    "menagerie.hours()"
   ]
  }
 ],
 "metadata": {
  "kernelspec": {
   "display_name": "Python 3 (ipykernel)",
   "language": "python",
   "name": "python3"
  },
  "language_info": {
   "codemirror_mode": {
    "name": "ipython",
    "version": 3
   },
   "file_extension": ".py",
   "mimetype": "text/x-python",
   "name": "python",
   "nbconvert_exporter": "python",
   "pygments_lexer": "ipython3",
   "version": "3.11.5"
  }
 },
 "nbformat": 4,
 "nbformat_minor": 5
}
