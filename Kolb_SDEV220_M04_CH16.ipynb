{
 "cells": [
  {
   "cell_type": "code",
   "execution_count": 20,
   "id": "ab79d816",
   "metadata": {},
   "outputs": [],
   "source": [
    "#M04 Things to do #16.1\n",
    "\n",
    "text = '''author, book\n",
    "J R R Tolkien, The Hobbit\n",
    "Lynne Truss, \"Eats, Shoots & Leaves\"\n",
    "'''\n",
    "with open('books.csv', 'wt') as outfile:\n",
    "    outfile.write(text)\n",
    "    \n",
    "    \n",
    "#16.3\n",
    "\n",
    "text = '''title, author, year\n",
    "The Weirdstone of Brisingamen, Alan Garner,1960\n",
    "Perdido Street Station, China Mieville,2000\n",
    "Thud!,Terry Pratchett,2005\n",
    "The Spellman Files,Lisa Lutz,2007\n",
    "Small Gods,Terry Pratchett,1992\n",
    "'''\n",
    "with open('books2.csv', 'wt') as outfile:\n",
    "    outfile.write(text)\n",
    "    "
   ]
  },
  {
   "cell_type": "code",
   "execution_count": 21,
   "id": "574dad27",
   "metadata": {},
   "outputs": [],
   "source": [
    "#Things to do 16.8\n",
    "\n",
    "import sqlalchemy\n",
    "conn = sqlalchemy.create_engine('sqlite:///books.db')\n",
    "sql = 'select title from book order by title asc'\n",
    "rows = conn.execute(sql)\n",
    "for row in rows:\n",
    "    print(row)"
   ]
  }
 ],
 "metadata": {
  "kernelspec": {
   "display_name": "Python 3 (ipykernel)",
   "language": "python",
   "name": "python3"
  },
  "language_info": {
   "codemirror_mode": {
    "name": "ipython",
    "version": 3
   },
   "file_extension": ".py",
   "mimetype": "text/x-python",
   "name": "python",
   "nbconvert_exporter": "python",
   "pygments_lexer": "ipython3",
   "version": "3.11.5"
  }
 },
 "nbformat": 4,
 "nbformat_minor": 5
}
